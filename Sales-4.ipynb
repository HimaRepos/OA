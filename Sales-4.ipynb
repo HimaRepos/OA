{
 "cells": [
  {
   "cell_type": "code",
   "execution_count": 145,
   "id": "edc4443c-cc0c-4b57-8057-774bbd947b85",
   "metadata": {},
   "outputs": [],
   "source": [
    "import pandas as pd"
   ]
  },
  {
   "cell_type": "code",
   "execution_count": 2,
   "id": "e66d47ca-2653-445c-ae95-dfed5e0d37e0",
   "metadata": {},
   "outputs": [],
   "source": [
    "### Data Wrangling\n",
    "df=pd.read_csv('AusApparalSales4thQrt2020.csv')"
   ]
  },
  {
   "cell_type": "code",
   "execution_count": 3,
   "id": "25e9177f-9927-4097-9a38-0916087152d6",
   "metadata": {},
   "outputs": [
    {
     "name": "stdout",
     "output_type": "stream",
     "text": [
      "         Date        Time State     Group  Unit  Sales\n",
      "0  1-Oct-2020     Morning    WA      Kids     8  20000\n",
      "1  1-Oct-2020     Morning    WA       Men     8  20000\n",
      "2  1-Oct-2020     Morning    WA     Women     4  10000\n",
      "3  1-Oct-2020     Morning    WA   Seniors    15  37500\n",
      "4  1-Oct-2020   Afternoon    WA      Kids     3   7500\n"
     ]
    }
   ],
   "source": [
    "print(df.head())"
   ]
  },
  {
   "cell_type": "code",
   "execution_count": 4,
   "id": "6ea96786-83fd-47b7-a8a8-65ca94e7c78f",
   "metadata": {},
   "outputs": [
    {
     "name": "stdout",
     "output_type": "stream",
     "text": [
      "             Date        Time State     Group  Unit  Sales\n",
      "7555  30-Dec-2020   Afternoon   TAS   Seniors    14  35000\n",
      "7556  30-Dec-2020     Evening   TAS      Kids    15  37500\n",
      "7557  30-Dec-2020     Evening   TAS       Men    15  37500\n",
      "7558  30-Dec-2020     Evening   TAS     Women    11  27500\n",
      "7559  30-Dec-2020     Evening   TAS   Seniors    13  32500\n"
     ]
    }
   ],
   "source": [
    "print(df.tail())"
   ]
  },
  {
   "cell_type": "code",
   "execution_count": 5,
   "id": "3b099241-84e7-4316-ac38-7d9ccf01ac1b",
   "metadata": {},
   "outputs": [
    {
     "name": "stdout",
     "output_type": "stream",
     "text": [
      "<class 'pandas.core.frame.DataFrame'>\n",
      "RangeIndex: 7560 entries, 0 to 7559\n",
      "Data columns (total 6 columns):\n",
      " #   Column  Non-Null Count  Dtype \n",
      "---  ------  --------------  ----- \n",
      " 0   Date    7560 non-null   object\n",
      " 1   Time    7560 non-null   object\n",
      " 2   State   7560 non-null   object\n",
      " 3   Group   7560 non-null   object\n",
      " 4   Unit    7560 non-null   int64 \n",
      " 5   Sales   7560 non-null   int64 \n",
      "dtypes: int64(2), object(4)\n",
      "memory usage: 354.5+ KB\n",
      "None\n"
     ]
    }
   ],
   "source": [
    "print(df.info())"
   ]
  },
  {
   "cell_type": "code",
   "execution_count": 6,
   "id": "d74aee22-796e-494f-8968-6aef1420ec03",
   "metadata": {},
   "outputs": [
    {
     "data": {
      "text/html": [
       "<div>\n",
       "<style scoped>\n",
       "    .dataframe tbody tr th:only-of-type {\n",
       "        vertical-align: middle;\n",
       "    }\n",
       "\n",
       "    .dataframe tbody tr th {\n",
       "        vertical-align: top;\n",
       "    }\n",
       "\n",
       "    .dataframe thead th {\n",
       "        text-align: right;\n",
       "    }\n",
       "</style>\n",
       "<table border=\"1\" class=\"dataframe\">\n",
       "  <thead>\n",
       "    <tr style=\"text-align: right;\">\n",
       "      <th></th>\n",
       "      <th>Date</th>\n",
       "      <th>Time</th>\n",
       "      <th>State</th>\n",
       "      <th>Group</th>\n",
       "      <th>Unit</th>\n",
       "      <th>Sales</th>\n",
       "    </tr>\n",
       "  </thead>\n",
       "  <tbody>\n",
       "    <tr>\n",
       "      <th>0</th>\n",
       "      <td>False</td>\n",
       "      <td>False</td>\n",
       "      <td>False</td>\n",
       "      <td>False</td>\n",
       "      <td>False</td>\n",
       "      <td>False</td>\n",
       "    </tr>\n",
       "    <tr>\n",
       "      <th>1</th>\n",
       "      <td>False</td>\n",
       "      <td>False</td>\n",
       "      <td>False</td>\n",
       "      <td>False</td>\n",
       "      <td>False</td>\n",
       "      <td>False</td>\n",
       "    </tr>\n",
       "    <tr>\n",
       "      <th>2</th>\n",
       "      <td>False</td>\n",
       "      <td>False</td>\n",
       "      <td>False</td>\n",
       "      <td>False</td>\n",
       "      <td>False</td>\n",
       "      <td>False</td>\n",
       "    </tr>\n",
       "    <tr>\n",
       "      <th>3</th>\n",
       "      <td>False</td>\n",
       "      <td>False</td>\n",
       "      <td>False</td>\n",
       "      <td>False</td>\n",
       "      <td>False</td>\n",
       "      <td>False</td>\n",
       "    </tr>\n",
       "    <tr>\n",
       "      <th>4</th>\n",
       "      <td>False</td>\n",
       "      <td>False</td>\n",
       "      <td>False</td>\n",
       "      <td>False</td>\n",
       "      <td>False</td>\n",
       "      <td>False</td>\n",
       "    </tr>\n",
       "    <tr>\n",
       "      <th>...</th>\n",
       "      <td>...</td>\n",
       "      <td>...</td>\n",
       "      <td>...</td>\n",
       "      <td>...</td>\n",
       "      <td>...</td>\n",
       "      <td>...</td>\n",
       "    </tr>\n",
       "    <tr>\n",
       "      <th>7555</th>\n",
       "      <td>False</td>\n",
       "      <td>False</td>\n",
       "      <td>False</td>\n",
       "      <td>False</td>\n",
       "      <td>False</td>\n",
       "      <td>False</td>\n",
       "    </tr>\n",
       "    <tr>\n",
       "      <th>7556</th>\n",
       "      <td>False</td>\n",
       "      <td>False</td>\n",
       "      <td>False</td>\n",
       "      <td>False</td>\n",
       "      <td>False</td>\n",
       "      <td>False</td>\n",
       "    </tr>\n",
       "    <tr>\n",
       "      <th>7557</th>\n",
       "      <td>False</td>\n",
       "      <td>False</td>\n",
       "      <td>False</td>\n",
       "      <td>False</td>\n",
       "      <td>False</td>\n",
       "      <td>False</td>\n",
       "    </tr>\n",
       "    <tr>\n",
       "      <th>7558</th>\n",
       "      <td>False</td>\n",
       "      <td>False</td>\n",
       "      <td>False</td>\n",
       "      <td>False</td>\n",
       "      <td>False</td>\n",
       "      <td>False</td>\n",
       "    </tr>\n",
       "    <tr>\n",
       "      <th>7559</th>\n",
       "      <td>False</td>\n",
       "      <td>False</td>\n",
       "      <td>False</td>\n",
       "      <td>False</td>\n",
       "      <td>False</td>\n",
       "      <td>False</td>\n",
       "    </tr>\n",
       "  </tbody>\n",
       "</table>\n",
       "<p>7560 rows × 6 columns</p>\n",
       "</div>"
      ],
      "text/plain": [
       "       Date   Time  State  Group   Unit  Sales\n",
       "0     False  False  False  False  False  False\n",
       "1     False  False  False  False  False  False\n",
       "2     False  False  False  False  False  False\n",
       "3     False  False  False  False  False  False\n",
       "4     False  False  False  False  False  False\n",
       "...     ...    ...    ...    ...    ...    ...\n",
       "7555  False  False  False  False  False  False\n",
       "7556  False  False  False  False  False  False\n",
       "7557  False  False  False  False  False  False\n",
       "7558  False  False  False  False  False  False\n",
       "7559  False  False  False  False  False  False\n",
       "\n",
       "[7560 rows x 6 columns]"
      ]
     },
     "execution_count": 6,
     "metadata": {},
     "output_type": "execute_result"
    }
   ],
   "source": [
    "df.isnull()"
   ]
  },
  {
   "cell_type": "code",
   "execution_count": 7,
   "id": "428181eb-8504-4102-829c-9db362e0cae5",
   "metadata": {},
   "outputs": [
    {
     "data": {
      "text/html": [
       "<div>\n",
       "<style scoped>\n",
       "    .dataframe tbody tr th:only-of-type {\n",
       "        vertical-align: middle;\n",
       "    }\n",
       "\n",
       "    .dataframe tbody tr th {\n",
       "        vertical-align: top;\n",
       "    }\n",
       "\n",
       "    .dataframe thead th {\n",
       "        text-align: right;\n",
       "    }\n",
       "</style>\n",
       "<table border=\"1\" class=\"dataframe\">\n",
       "  <thead>\n",
       "    <tr style=\"text-align: right;\">\n",
       "      <th></th>\n",
       "      <th>Date</th>\n",
       "      <th>Time</th>\n",
       "      <th>State</th>\n",
       "      <th>Group</th>\n",
       "      <th>Unit</th>\n",
       "      <th>Sales</th>\n",
       "    </tr>\n",
       "  </thead>\n",
       "  <tbody>\n",
       "    <tr>\n",
       "      <th>0</th>\n",
       "      <td>False</td>\n",
       "      <td>False</td>\n",
       "      <td>False</td>\n",
       "      <td>False</td>\n",
       "      <td>False</td>\n",
       "      <td>False</td>\n",
       "    </tr>\n",
       "    <tr>\n",
       "      <th>1</th>\n",
       "      <td>False</td>\n",
       "      <td>False</td>\n",
       "      <td>False</td>\n",
       "      <td>False</td>\n",
       "      <td>False</td>\n",
       "      <td>False</td>\n",
       "    </tr>\n",
       "    <tr>\n",
       "      <th>2</th>\n",
       "      <td>False</td>\n",
       "      <td>False</td>\n",
       "      <td>False</td>\n",
       "      <td>False</td>\n",
       "      <td>False</td>\n",
       "      <td>False</td>\n",
       "    </tr>\n",
       "    <tr>\n",
       "      <th>3</th>\n",
       "      <td>False</td>\n",
       "      <td>False</td>\n",
       "      <td>False</td>\n",
       "      <td>False</td>\n",
       "      <td>False</td>\n",
       "      <td>False</td>\n",
       "    </tr>\n",
       "    <tr>\n",
       "      <th>4</th>\n",
       "      <td>False</td>\n",
       "      <td>False</td>\n",
       "      <td>False</td>\n",
       "      <td>False</td>\n",
       "      <td>False</td>\n",
       "      <td>False</td>\n",
       "    </tr>\n",
       "    <tr>\n",
       "      <th>...</th>\n",
       "      <td>...</td>\n",
       "      <td>...</td>\n",
       "      <td>...</td>\n",
       "      <td>...</td>\n",
       "      <td>...</td>\n",
       "      <td>...</td>\n",
       "    </tr>\n",
       "    <tr>\n",
       "      <th>7555</th>\n",
       "      <td>False</td>\n",
       "      <td>False</td>\n",
       "      <td>False</td>\n",
       "      <td>False</td>\n",
       "      <td>False</td>\n",
       "      <td>False</td>\n",
       "    </tr>\n",
       "    <tr>\n",
       "      <th>7556</th>\n",
       "      <td>False</td>\n",
       "      <td>False</td>\n",
       "      <td>False</td>\n",
       "      <td>False</td>\n",
       "      <td>False</td>\n",
       "      <td>False</td>\n",
       "    </tr>\n",
       "    <tr>\n",
       "      <th>7557</th>\n",
       "      <td>False</td>\n",
       "      <td>False</td>\n",
       "      <td>False</td>\n",
       "      <td>False</td>\n",
       "      <td>False</td>\n",
       "      <td>False</td>\n",
       "    </tr>\n",
       "    <tr>\n",
       "      <th>7558</th>\n",
       "      <td>False</td>\n",
       "      <td>False</td>\n",
       "      <td>False</td>\n",
       "      <td>False</td>\n",
       "      <td>False</td>\n",
       "      <td>False</td>\n",
       "    </tr>\n",
       "    <tr>\n",
       "      <th>7559</th>\n",
       "      <td>False</td>\n",
       "      <td>False</td>\n",
       "      <td>False</td>\n",
       "      <td>False</td>\n",
       "      <td>False</td>\n",
       "      <td>False</td>\n",
       "    </tr>\n",
       "  </tbody>\n",
       "</table>\n",
       "<p>7560 rows × 6 columns</p>\n",
       "</div>"
      ],
      "text/plain": [
       "       Date   Time  State  Group   Unit  Sales\n",
       "0     False  False  False  False  False  False\n",
       "1     False  False  False  False  False  False\n",
       "2     False  False  False  False  False  False\n",
       "3     False  False  False  False  False  False\n",
       "4     False  False  False  False  False  False\n",
       "...     ...    ...    ...    ...    ...    ...\n",
       "7555  False  False  False  False  False  False\n",
       "7556  False  False  False  False  False  False\n",
       "7557  False  False  False  False  False  False\n",
       "7558  False  False  False  False  False  False\n",
       "7559  False  False  False  False  False  False\n",
       "\n",
       "[7560 rows x 6 columns]"
      ]
     },
     "execution_count": 7,
     "metadata": {},
     "output_type": "execute_result"
    }
   ],
   "source": [
    "df.isna()"
   ]
  },
  {
   "cell_type": "code",
   "execution_count": 8,
   "id": "c55e9e3c-69f9-4abb-bd65-0aa97a09ff23",
   "metadata": {},
   "outputs": [
    {
     "data": {
      "text/plain": [
       "Date     0\n",
       "Time     0\n",
       "State    0\n",
       "Group    0\n",
       "Unit     0\n",
       "Sales    0\n",
       "dtype: int64"
      ]
     },
     "execution_count": 8,
     "metadata": {},
     "output_type": "execute_result"
    }
   ],
   "source": [
    "df.isna().sum()"
   ]
  },
  {
   "cell_type": "code",
   "execution_count": 9,
   "id": "74e745c9-75d4-41e8-a089-96e783155d20",
   "metadata": {},
   "outputs": [
    {
     "data": {
      "text/plain": [
       "0"
      ]
     },
     "execution_count": 9,
     "metadata": {},
     "output_type": "execute_result"
    }
   ],
   "source": [
    "df['Unit'].isna().sum()"
   ]
  },
  {
   "cell_type": "code",
   "execution_count": 10,
   "id": "4835ba1d-df05-4ed0-a7eb-b7a1029f0a2e",
   "metadata": {},
   "outputs": [
    {
     "data": {
      "text/plain": [
       "0"
      ]
     },
     "execution_count": 10,
     "metadata": {},
     "output_type": "execute_result"
    }
   ],
   "source": [
    "df['State'].isna().sum()"
   ]
  },
  {
   "cell_type": "code",
   "execution_count": 11,
   "id": "e33cc0ed-36e8-4ee3-afde-3a78169490d6",
   "metadata": {},
   "outputs": [
    {
     "data": {
      "text/plain": [
       "0"
      ]
     },
     "execution_count": 11,
     "metadata": {},
     "output_type": "execute_result"
    }
   ],
   "source": [
    "df['Time'].isna().sum()"
   ]
  },
  {
   "cell_type": "code",
   "execution_count": 12,
   "id": "6875a2d1-39ad-4e45-babc-ff1fe0ca4c4f",
   "metadata": {},
   "outputs": [
    {
     "data": {
      "text/plain": [
       "0"
      ]
     },
     "execution_count": 12,
     "metadata": {},
     "output_type": "execute_result"
    }
   ],
   "source": [
    "df['Group'].isna().sum()"
   ]
  },
  {
   "cell_type": "code",
   "execution_count": 13,
   "id": "9e4098e1-f84e-4630-9026-1205e12a9e57",
   "metadata": {},
   "outputs": [
    {
     "data": {
      "text/plain": [
       "0"
      ]
     },
     "execution_count": 13,
     "metadata": {},
     "output_type": "execute_result"
    }
   ],
   "source": [
    "df['Sales'].isna().sum()"
   ]
  },
  {
   "cell_type": "code",
   "execution_count": 14,
   "id": "44b272eb-51c6-4d55-abae-70ee4a666a59",
   "metadata": {},
   "outputs": [
    {
     "data": {
      "text/plain": [
       "0"
      ]
     },
     "execution_count": 14,
     "metadata": {},
     "output_type": "execute_result"
    }
   ],
   "source": [
    "df['Date'].isna().sum()"
   ]
  },
  {
   "cell_type": "code",
   "execution_count": 15,
   "id": "5efa645f-1760-4087-bd90-478a7f043046",
   "metadata": {},
   "outputs": [],
   "source": [
    "newdf = df.notna()"
   ]
  },
  {
   "cell_type": "code",
   "execution_count": 16,
   "id": "f6dc62d3-4cd3-4a6a-be4f-e4bd9a7fe50c",
   "metadata": {},
   "outputs": [],
   "source": [
    "### Data Analysis"
   ]
  },
  {
   "cell_type": "code",
   "execution_count": 17,
   "id": "1bf22620-1139-418e-99d0-d55c903e0919",
   "metadata": {},
   "outputs": [
    {
     "data": {
      "text/plain": [
       "45013.5582010582"
      ]
     },
     "execution_count": 17,
     "metadata": {},
     "output_type": "execute_result"
    }
   ],
   "source": [
    "df['Sales'].mean()"
   ]
  },
  {
   "cell_type": "code",
   "execution_count": 18,
   "id": "8a64f7b5-2ef1-4dca-b2a6-9cee580e30b0",
   "metadata": {},
   "outputs": [
    {
     "data": {
      "text/plain": [
       "18.00542328042328"
      ]
     },
     "execution_count": 18,
     "metadata": {},
     "output_type": "execute_result"
    }
   ],
   "source": [
    "df['Unit'].mean()"
   ]
  },
  {
   "cell_type": "code",
   "execution_count": 19,
   "id": "f96c9155-93ef-480f-bdf7-da7af4d55b79",
   "metadata": {},
   "outputs": [],
   "source": [
    "comparedf=df['Sales'].mean()"
   ]
  },
  {
   "cell_type": "code",
   "execution_count": 20,
   "id": "89dcf009-ce82-4381-a3c8-0dfe4eb7019a",
   "metadata": {},
   "outputs": [
    {
     "data": {
      "text/plain": [
       "35000.0"
      ]
     },
     "execution_count": 20,
     "metadata": {},
     "output_type": "execute_result"
    }
   ],
   "source": [
    "df['Sales'].median()"
   ]
  },
  {
   "cell_type": "code",
   "execution_count": 21,
   "id": "369efae6-cfad-40d9-8c46-8b4974ba7dee",
   "metadata": {},
   "outputs": [
    {
     "data": {
      "text/plain": [
       "' Kids'"
      ]
     },
     "execution_count": 21,
     "metadata": {},
     "output_type": "execute_result"
    }
   ],
   "source": [
    "df['Group'].mode()[0]"
   ]
  },
  {
   "cell_type": "code",
   "execution_count": 22,
   "id": "57377e24-359f-4370-811e-34127c620ea3",
   "metadata": {},
   "outputs": [],
   "source": [
    "### Data Wrangling\n",
    "import pandas as pd\n",
    "sales=pd.read_csv('AusApparalSales4thQrt2020.csv')"
   ]
  },
  {
   "cell_type": "code",
   "execution_count": 23,
   "id": "d475dbb7-edac-44db-b27e-fe1a79f52553",
   "metadata": {},
   "outputs": [
    {
     "data": {
      "text/plain": [
       "22500"
      ]
     },
     "execution_count": 23,
     "metadata": {},
     "output_type": "execute_result"
    }
   ],
   "source": [
    "sales['Sales'].mode()[0]"
   ]
  },
  {
   "cell_type": "code",
   "execution_count": 24,
   "id": "02930298-3afd-4296-8b44-4009adb62947",
   "metadata": {},
   "outputs": [
    {
     "data": {
      "text/html": [
       "<div>\n",
       "<style scoped>\n",
       "    .dataframe tbody tr th:only-of-type {\n",
       "        vertical-align: middle;\n",
       "    }\n",
       "\n",
       "    .dataframe tbody tr th {\n",
       "        vertical-align: top;\n",
       "    }\n",
       "\n",
       "    .dataframe thead th {\n",
       "        text-align: right;\n",
       "    }\n",
       "</style>\n",
       "<table border=\"1\" class=\"dataframe\">\n",
       "  <thead>\n",
       "    <tr style=\"text-align: right;\">\n",
       "      <th></th>\n",
       "      <th>Date</th>\n",
       "      <th>Time</th>\n",
       "      <th>State</th>\n",
       "      <th>Group</th>\n",
       "      <th>Unit</th>\n",
       "      <th>Sales</th>\n",
       "    </tr>\n",
       "  </thead>\n",
       "  <tbody>\n",
       "    <tr>\n",
       "      <th>0</th>\n",
       "      <td>1-Oct-2020</td>\n",
       "      <td>Morning</td>\n",
       "      <td>WA</td>\n",
       "      <td>Kids</td>\n",
       "      <td>8</td>\n",
       "      <td>20000</td>\n",
       "    </tr>\n",
       "    <tr>\n",
       "      <th>1</th>\n",
       "      <td>1-Oct-2020</td>\n",
       "      <td>Morning</td>\n",
       "      <td>WA</td>\n",
       "      <td>Men</td>\n",
       "      <td>8</td>\n",
       "      <td>20000</td>\n",
       "    </tr>\n",
       "    <tr>\n",
       "      <th>2</th>\n",
       "      <td>1-Oct-2020</td>\n",
       "      <td>Morning</td>\n",
       "      <td>WA</td>\n",
       "      <td>Women</td>\n",
       "      <td>4</td>\n",
       "      <td>10000</td>\n",
       "    </tr>\n",
       "    <tr>\n",
       "      <th>3</th>\n",
       "      <td>1-Oct-2020</td>\n",
       "      <td>Morning</td>\n",
       "      <td>WA</td>\n",
       "      <td>Seniors</td>\n",
       "      <td>15</td>\n",
       "      <td>37500</td>\n",
       "    </tr>\n",
       "    <tr>\n",
       "      <th>4</th>\n",
       "      <td>1-Oct-2020</td>\n",
       "      <td>Afternoon</td>\n",
       "      <td>WA</td>\n",
       "      <td>Kids</td>\n",
       "      <td>3</td>\n",
       "      <td>7500</td>\n",
       "    </tr>\n",
       "  </tbody>\n",
       "</table>\n",
       "</div>"
      ],
      "text/plain": [
       "         Date        Time State     Group  Unit  Sales\n",
       "0  1-Oct-2020     Morning    WA      Kids     8  20000\n",
       "1  1-Oct-2020     Morning    WA       Men     8  20000\n",
       "2  1-Oct-2020     Morning    WA     Women     4  10000\n",
       "3  1-Oct-2020     Morning    WA   Seniors    15  37500\n",
       "4  1-Oct-2020   Afternoon    WA      Kids     3   7500"
      ]
     },
     "execution_count": 24,
     "metadata": {},
     "output_type": "execute_result"
    }
   ],
   "source": [
    "sales.head()"
   ]
  },
  {
   "cell_type": "code",
   "execution_count": 25,
   "id": "38342463-46d2-41b2-904d-12d7fa926c1d",
   "metadata": {},
   "outputs": [
    {
     "data": {
      "text/plain": [
       "Time\n",
       "Afternoon    18.096429\n",
       "Evening      17.791667\n",
       "Morning      18.128175\n",
       "Name: Unit, dtype: float64"
      ]
     },
     "execution_count": 25,
     "metadata": {},
     "output_type": "execute_result"
    }
   ],
   "source": [
    "sales.groupby('Time').Unit.mean()"
   ]
  },
  {
   "cell_type": "code",
   "execution_count": 26,
   "id": "2d4f4541-2d46-4d75-97b0-f178363a7fbe",
   "metadata": {},
   "outputs": [
    {
     "data": {
      "text/plain": [
       "State\n",
       "NSW    69416.666667\n",
       "NT     20907.407407\n",
       "QLD    30942.129630\n",
       "SA     54497.685185\n",
       "TAS    21074.074074\n",
       "VIC    97745.370370\n",
       "WA     20511.574074\n",
       "Name: Sales, dtype: float64"
      ]
     },
     "execution_count": 26,
     "metadata": {},
     "output_type": "execute_result"
    }
   ],
   "source": [
    "sales.groupby('State').Sales.mean()"
   ]
  },
  {
   "cell_type": "code",
   "execution_count": 27,
   "id": "df66ecb4-19eb-43bc-bfb0-bb3c5c656eec",
   "metadata": {},
   "outputs": [
    {
     "data": {
      "text/plain": [
       "Group\n",
       "Kids       45011.904762\n",
       "Men        45370.370370\n",
       "Seniors    44464.285714\n",
       "Women      45207.671958\n",
       "Name: Sales, dtype: float64"
      ]
     },
     "execution_count": 27,
     "metadata": {},
     "output_type": "execute_result"
    }
   ],
   "source": [
    "sales.groupby('Group').Sales.mean()"
   ]
  },
  {
   "cell_type": "code",
   "execution_count": 28,
   "id": "a1a7ad82-dae8-4d6e-b009-edb1e9a77607",
   "metadata": {},
   "outputs": [],
   "source": [
    "# Data Analysis"
   ]
  },
  {
   "cell_type": "code",
   "execution_count": 29,
   "id": "f1e3ff33-5513-4664-beee-f780bf54664a",
   "metadata": {},
   "outputs": [
    {
     "data": {
      "text/plain": [
       "State\n",
       "NSW    112500\n",
       "NT      37500\n",
       "QLD     62500\n",
       "SA      87500\n",
       "TAS     37500\n",
       "VIC    162500\n",
       "WA      37500\n",
       "Name: Sales, dtype: int64"
      ]
     },
     "execution_count": 29,
     "metadata": {},
     "output_type": "execute_result"
    }
   ],
   "source": [
    "sales.groupby('State').Sales.max()"
   ]
  },
  {
   "cell_type": "code",
   "execution_count": 30,
   "id": "f80f80e7-b6b2-4dda-ba62-9930c4b19c08",
   "metadata": {},
   "outputs": [
    {
     "data": {
      "text/plain": [
       "Group\n",
       "Kids       162500\n",
       "Men        160000\n",
       "Seniors    162500\n",
       "Women      162500\n",
       "Name: Sales, dtype: int64"
      ]
     },
     "execution_count": 30,
     "metadata": {},
     "output_type": "execute_result"
    }
   ],
   "source": [
    "sales.groupby('Group').Sales.max()"
   ]
  },
  {
   "cell_type": "code",
   "execution_count": 31,
   "id": "9fd8c36c-a6bd-4f52-b30a-b92d54d4f717",
   "metadata": {},
   "outputs": [
    {
     "data": {
      "text/plain": [
       "Group\n",
       "Kids       31871.491085\n",
       "Men        32177.180712\n",
       "Seniors    32195.360017\n",
       "Women      32781.639869\n",
       "Name: Sales, dtype: float64"
      ]
     },
     "execution_count": 31,
     "metadata": {},
     "output_type": "execute_result"
    }
   ],
   "source": [
    "sales.groupby('Group').Sales.std()"
   ]
  },
  {
   "cell_type": "code",
   "execution_count": 32,
   "id": "66ddd387-08f1-4972-ad83-7d225693239c",
   "metadata": {},
   "outputs": [
    {
     "data": {
      "text/plain": [
       "Group\n",
       "Kids       12.748596\n",
       "Men        12.870872\n",
       "Seniors    12.878144\n",
       "Women      13.112656\n",
       "Name: Unit, dtype: float64"
      ]
     },
     "execution_count": 32,
     "metadata": {},
     "output_type": "execute_result"
    }
   ],
   "source": [
    "sales.groupby('Group').Unit.std()"
   ]
  },
  {
   "cell_type": "code",
   "execution_count": 33,
   "id": "77460448-b0a7-4eb8-839c-56b04f4d0146",
   "metadata": {},
   "outputs": [
    {
     "data": {
      "text/plain": [
       "Group\n",
       "Kids       12.748596\n",
       "Men        12.870872\n",
       "Seniors    12.878144\n",
       "Women      13.112656\n",
       "Name: Unit, dtype: float64"
      ]
     },
     "execution_count": 33,
     "metadata": {},
     "output_type": "execute_result"
    }
   ],
   "source": [
    "sales.groupby('Group').Unit.std()"
   ]
  },
  {
   "cell_type": "code",
   "execution_count": 34,
   "id": "c84c8c25-8dd1-488b-82bb-254b02b27920",
   "metadata": {},
   "outputs": [
    {
     "data": {
      "text/html": [
       "<div>\n",
       "<style scoped>\n",
       "    .dataframe tbody tr th:only-of-type {\n",
       "        vertical-align: middle;\n",
       "    }\n",
       "\n",
       "    .dataframe tbody tr th {\n",
       "        vertical-align: top;\n",
       "    }\n",
       "\n",
       "    .dataframe thead th {\n",
       "        text-align: right;\n",
       "    }\n",
       "</style>\n",
       "<table border=\"1\" class=\"dataframe\">\n",
       "  <thead>\n",
       "    <tr style=\"text-align: right;\">\n",
       "      <th></th>\n",
       "      <th>count</th>\n",
       "      <th>min</th>\n",
       "      <th>max</th>\n",
       "      <th>mean</th>\n",
       "    </tr>\n",
       "    <tr>\n",
       "      <th>Group</th>\n",
       "      <th></th>\n",
       "      <th></th>\n",
       "      <th></th>\n",
       "      <th></th>\n",
       "    </tr>\n",
       "  </thead>\n",
       "  <tbody>\n",
       "    <tr>\n",
       "      <th>Kids</th>\n",
       "      <td>1890</td>\n",
       "      <td>5000</td>\n",
       "      <td>162500</td>\n",
       "      <td>45011.904762</td>\n",
       "    </tr>\n",
       "    <tr>\n",
       "      <th>Men</th>\n",
       "      <td>1890</td>\n",
       "      <td>5000</td>\n",
       "      <td>160000</td>\n",
       "      <td>45370.370370</td>\n",
       "    </tr>\n",
       "    <tr>\n",
       "      <th>Seniors</th>\n",
       "      <td>1890</td>\n",
       "      <td>5000</td>\n",
       "      <td>162500</td>\n",
       "      <td>44464.285714</td>\n",
       "    </tr>\n",
       "    <tr>\n",
       "      <th>Women</th>\n",
       "      <td>1890</td>\n",
       "      <td>5000</td>\n",
       "      <td>162500</td>\n",
       "      <td>45207.671958</td>\n",
       "    </tr>\n",
       "  </tbody>\n",
       "</table>\n",
       "</div>"
      ],
      "text/plain": [
       "         count   min     max          mean\n",
       "Group                                     \n",
       "Kids      1890  5000  162500  45011.904762\n",
       "Men       1890  5000  160000  45370.370370\n",
       "Seniors   1890  5000  162500  44464.285714\n",
       "Women     1890  5000  162500  45207.671958"
      ]
     },
     "execution_count": 34,
     "metadata": {},
     "output_type": "execute_result"
    }
   ],
   "source": [
    "sales.groupby('Group').Sales.agg(['count','min','max','mean'])"
   ]
  },
  {
   "cell_type": "code",
   "execution_count": 35,
   "id": "ee09bcfc-0d2d-4bd5-8360-7111cb42d05c",
   "metadata": {},
   "outputs": [
    {
     "data": {
      "text/html": [
       "<div>\n",
       "<style scoped>\n",
       "    .dataframe tbody tr th:only-of-type {\n",
       "        vertical-align: middle;\n",
       "    }\n",
       "\n",
       "    .dataframe tbody tr th {\n",
       "        vertical-align: top;\n",
       "    }\n",
       "\n",
       "    .dataframe thead th {\n",
       "        text-align: right;\n",
       "    }\n",
       "</style>\n",
       "<table border=\"1\" class=\"dataframe\">\n",
       "  <thead>\n",
       "    <tr style=\"text-align: right;\">\n",
       "      <th></th>\n",
       "      <th>count</th>\n",
       "      <th>min</th>\n",
       "      <th>max</th>\n",
       "      <th>mean</th>\n",
       "    </tr>\n",
       "    <tr>\n",
       "      <th>State</th>\n",
       "      <th></th>\n",
       "      <th></th>\n",
       "      <th></th>\n",
       "      <th></th>\n",
       "    </tr>\n",
       "  </thead>\n",
       "  <tbody>\n",
       "    <tr>\n",
       "      <th>NSW</th>\n",
       "      <td>1080</td>\n",
       "      <td>30000</td>\n",
       "      <td>112500</td>\n",
       "      <td>69416.666667</td>\n",
       "    </tr>\n",
       "    <tr>\n",
       "      <th>NT</th>\n",
       "      <td>1080</td>\n",
       "      <td>5000</td>\n",
       "      <td>37500</td>\n",
       "      <td>20907.407407</td>\n",
       "    </tr>\n",
       "    <tr>\n",
       "      <th>QLD</th>\n",
       "      <td>1080</td>\n",
       "      <td>7500</td>\n",
       "      <td>62500</td>\n",
       "      <td>30942.129630</td>\n",
       "    </tr>\n",
       "    <tr>\n",
       "      <th>SA</th>\n",
       "      <td>1080</td>\n",
       "      <td>25000</td>\n",
       "      <td>87500</td>\n",
       "      <td>54497.685185</td>\n",
       "    </tr>\n",
       "    <tr>\n",
       "      <th>TAS</th>\n",
       "      <td>1080</td>\n",
       "      <td>5000</td>\n",
       "      <td>37500</td>\n",
       "      <td>21074.074074</td>\n",
       "    </tr>\n",
       "    <tr>\n",
       "      <th>VIC</th>\n",
       "      <td>1080</td>\n",
       "      <td>50000</td>\n",
       "      <td>162500</td>\n",
       "      <td>97745.370370</td>\n",
       "    </tr>\n",
       "    <tr>\n",
       "      <th>WA</th>\n",
       "      <td>1080</td>\n",
       "      <td>5000</td>\n",
       "      <td>37500</td>\n",
       "      <td>20511.574074</td>\n",
       "    </tr>\n",
       "  </tbody>\n",
       "</table>\n",
       "</div>"
      ],
      "text/plain": [
       "       count    min     max          mean\n",
       "State                                    \n",
       "NSW     1080  30000  112500  69416.666667\n",
       "NT      1080   5000   37500  20907.407407\n",
       "QLD     1080   7500   62500  30942.129630\n",
       "SA      1080  25000   87500  54497.685185\n",
       "TAS     1080   5000   37500  21074.074074\n",
       "VIC     1080  50000  162500  97745.370370\n",
       "WA      1080   5000   37500  20511.574074"
      ]
     },
     "execution_count": 35,
     "metadata": {},
     "output_type": "execute_result"
    }
   ],
   "source": [
    "sales.groupby('State').Sales.agg(['count','min','max','mean'])"
   ]
  },
  {
   "cell_type": "code",
   "execution_count": 36,
   "id": "545680a5-3aa7-444c-86ba-87021fdc32c6",
   "metadata": {},
   "outputs": [
    {
     "data": {
      "text/html": [
       "<div>\n",
       "<style scoped>\n",
       "    .dataframe tbody tr th:only-of-type {\n",
       "        vertical-align: middle;\n",
       "    }\n",
       "\n",
       "    .dataframe tbody tr th {\n",
       "        vertical-align: top;\n",
       "    }\n",
       "\n",
       "    .dataframe thead th {\n",
       "        text-align: right;\n",
       "    }\n",
       "</style>\n",
       "<table border=\"1\" class=\"dataframe\">\n",
       "  <thead>\n",
       "    <tr style=\"text-align: right;\">\n",
       "      <th></th>\n",
       "      <th>Group</th>\n",
       "      <th>Sales</th>\n",
       "    </tr>\n",
       "  </thead>\n",
       "  <tbody>\n",
       "    <tr>\n",
       "      <th>5423</th>\n",
       "      <td>Seniors</td>\n",
       "      <td>162500</td>\n",
       "    </tr>\n",
       "    <tr>\n",
       "      <th>7019</th>\n",
       "      <td>Seniors</td>\n",
       "      <td>162500</td>\n",
       "    </tr>\n",
       "    <tr>\n",
       "      <th>7354</th>\n",
       "      <td>Women</td>\n",
       "      <td>162500</td>\n",
       "    </tr>\n",
       "    <tr>\n",
       "      <th>6598</th>\n",
       "      <td>Women</td>\n",
       "      <td>162500</td>\n",
       "    </tr>\n",
       "    <tr>\n",
       "      <th>6174</th>\n",
       "      <td>Women</td>\n",
       "      <td>162500</td>\n",
       "    </tr>\n",
       "  </tbody>\n",
       "</table>\n",
       "</div>"
      ],
      "text/plain": [
       "         Group   Sales\n",
       "5423   Seniors  162500\n",
       "7019   Seniors  162500\n",
       "7354     Women  162500\n",
       "6598     Women  162500\n",
       "6174     Women  162500"
      ]
     },
     "execution_count": 36,
     "metadata": {},
     "output_type": "execute_result"
    }
   ],
   "source": [
    "sales[['Group','Sales']].sort_values(by='Sales', ascending=False).head()"
   ]
  },
  {
   "cell_type": "code",
   "execution_count": 37,
   "id": "4753c69e-a8c1-4f1a-a661-73bc4eb4e2aa",
   "metadata": {},
   "outputs": [
    {
     "name": "stdout",
     "output_type": "stream",
     "text": [
      "Lowest Sales sort by Group:\n",
      "          Group  Sales\n",
      "3020      Kids   5000\n",
      "3180      Kids   5000\n",
      "3191   Seniors   5000\n",
      "3193       Men   5000\n",
      "3195   Seniors   5000\n"
     ]
    }
   ],
   "source": [
    "sales_sort=sales[['Group','Sales']].sort_values(by='Sales').head()\n",
    "print('Lowest Sales sort by Group:\\n',sales_sort)"
   ]
  },
  {
   "cell_type": "code",
   "execution_count": 38,
   "id": "a193afed-f81d-4c7d-82bf-766c8be805fa",
   "metadata": {},
   "outputs": [
    {
     "name": "stdout",
     "output_type": "stream",
     "text": [
      "Highest Sales sort by State:\n",
      "      State   Sales\n",
      "5423   VIC  162500\n",
      "7019   VIC  162500\n",
      "7354   VIC  162500\n",
      "6598   VIC  162500\n",
      "6174   VIC  162500\n"
     ]
    }
   ],
   "source": [
    "sales_high=sales[['State','Sales']].sort_values(by='Sales', ascending=False).head()\n",
    "print('Highest Sales sort by State:\\n',sales_high)"
   ]
  },
  {
   "cell_type": "code",
   "execution_count": 39,
   "id": "698d3635-c467-4c4e-9ef0-01666aeba8e8",
   "metadata": {},
   "outputs": [
    {
     "data": {
      "text/html": [
       "<div>\n",
       "<style scoped>\n",
       "    .dataframe tbody tr th:only-of-type {\n",
       "        vertical-align: middle;\n",
       "    }\n",
       "\n",
       "    .dataframe tbody tr th {\n",
       "        vertical-align: top;\n",
       "    }\n",
       "\n",
       "    .dataframe thead th {\n",
       "        text-align: right;\n",
       "    }\n",
       "</style>\n",
       "<table border=\"1\" class=\"dataframe\">\n",
       "  <thead>\n",
       "    <tr style=\"text-align: right;\">\n",
       "      <th></th>\n",
       "      <th>State</th>\n",
       "      <th>Sales</th>\n",
       "    </tr>\n",
       "  </thead>\n",
       "  <tbody>\n",
       "    <tr>\n",
       "      <th>3020</th>\n",
       "      <td>TAS</td>\n",
       "      <td>5000</td>\n",
       "    </tr>\n",
       "    <tr>\n",
       "      <th>3180</th>\n",
       "      <td>TAS</td>\n",
       "      <td>5000</td>\n",
       "    </tr>\n",
       "    <tr>\n",
       "      <th>3191</th>\n",
       "      <td>TAS</td>\n",
       "      <td>5000</td>\n",
       "    </tr>\n",
       "    <tr>\n",
       "      <th>3193</th>\n",
       "      <td>WA</td>\n",
       "      <td>5000</td>\n",
       "    </tr>\n",
       "    <tr>\n",
       "      <th>3195</th>\n",
       "      <td>WA</td>\n",
       "      <td>5000</td>\n",
       "    </tr>\n",
       "  </tbody>\n",
       "</table>\n",
       "</div>"
      ],
      "text/plain": [
       "     State  Sales\n",
       "3020   TAS   5000\n",
       "3180   TAS   5000\n",
       "3191   TAS   5000\n",
       "3193    WA   5000\n",
       "3195    WA   5000"
      ]
     },
     "execution_count": 39,
     "metadata": {},
     "output_type": "execute_result"
    }
   ],
   "source": [
    "sales[['State','Sales']].sort_values(by='Sales').head()"
   ]
  },
  {
   "cell_type": "code",
   "execution_count": 40,
   "id": "1fc1379e-248a-46bd-a5f1-30b5be08624f",
   "metadata": {},
   "outputs": [],
   "source": [
    "import pandas as pd\n",
    "import datetime as dt\n",
    "sales['Date']=pd.to_datetime(sales['Date'])\n"
   ]
  },
  {
   "cell_type": "code",
   "execution_count": 41,
   "id": "5346e8e7-4f73-45f4-b96d-b2dfbf6d9a95",
   "metadata": {},
   "outputs": [
    {
     "data": {
      "text/plain": [
       "Date     datetime64[ns]\n",
       "Time             object\n",
       "State            object\n",
       "Group            object\n",
       "Unit              int64\n",
       "Sales             int64\n",
       "dtype: object"
      ]
     },
     "execution_count": 41,
     "metadata": {},
     "output_type": "execute_result"
    }
   ],
   "source": [
    "sales.dtypes"
   ]
  },
  {
   "cell_type": "code",
   "execution_count": 42,
   "id": "a7f3c7fb-bd61-4904-a33a-ef25b265bd62",
   "metadata": {},
   "outputs": [
    {
     "data": {
      "text/plain": [
       "Timestamp('2020-10-01 00:00:00')"
      ]
     },
     "execution_count": 42,
     "metadata": {},
     "output_type": "execute_result"
    }
   ],
   "source": [
    "sales['Date'].min()"
   ]
  },
  {
   "cell_type": "code",
   "execution_count": 43,
   "id": "d382ea92-b16c-4343-a4e2-f6608b095f2a",
   "metadata": {},
   "outputs": [
    {
     "data": {
      "text/plain": [
       "Timestamp('2020-12-30 00:00:00')"
      ]
     },
     "execution_count": 43,
     "metadata": {},
     "output_type": "execute_result"
    }
   ],
   "source": [
    "sales['Date'].max()"
   ]
  },
  {
   "cell_type": "code",
   "execution_count": 44,
   "id": "7602805d-a1af-4251-934e-77bca0a350aa",
   "metadata": {},
   "outputs": [
    {
     "data": {
      "text/html": [
       "<div>\n",
       "<style scoped>\n",
       "    .dataframe tbody tr th:only-of-type {\n",
       "        vertical-align: middle;\n",
       "    }\n",
       "\n",
       "    .dataframe tbody tr th {\n",
       "        vertical-align: top;\n",
       "    }\n",
       "\n",
       "    .dataframe thead th {\n",
       "        text-align: right;\n",
       "    }\n",
       "</style>\n",
       "<table border=\"1\" class=\"dataframe\">\n",
       "  <thead>\n",
       "    <tr style=\"text-align: right;\">\n",
       "      <th></th>\n",
       "      <th>Date</th>\n",
       "      <th>Time</th>\n",
       "      <th>State</th>\n",
       "      <th>Group</th>\n",
       "      <th>Unit</th>\n",
       "      <th>Sales</th>\n",
       "    </tr>\n",
       "  </thead>\n",
       "  <tbody>\n",
       "    <tr>\n",
       "      <th>0</th>\n",
       "      <td>2020-10-01</td>\n",
       "      <td>Morning</td>\n",
       "      <td>WA</td>\n",
       "      <td>Kids</td>\n",
       "      <td>8</td>\n",
       "      <td>20000</td>\n",
       "    </tr>\n",
       "    <tr>\n",
       "      <th>1</th>\n",
       "      <td>2020-10-01</td>\n",
       "      <td>Morning</td>\n",
       "      <td>WA</td>\n",
       "      <td>Men</td>\n",
       "      <td>8</td>\n",
       "      <td>20000</td>\n",
       "    </tr>\n",
       "    <tr>\n",
       "      <th>2</th>\n",
       "      <td>2020-10-01</td>\n",
       "      <td>Morning</td>\n",
       "      <td>WA</td>\n",
       "      <td>Women</td>\n",
       "      <td>4</td>\n",
       "      <td>10000</td>\n",
       "    </tr>\n",
       "    <tr>\n",
       "      <th>3</th>\n",
       "      <td>2020-10-01</td>\n",
       "      <td>Morning</td>\n",
       "      <td>WA</td>\n",
       "      <td>Seniors</td>\n",
       "      <td>15</td>\n",
       "      <td>37500</td>\n",
       "    </tr>\n",
       "    <tr>\n",
       "      <th>4</th>\n",
       "      <td>2020-10-01</td>\n",
       "      <td>Afternoon</td>\n",
       "      <td>WA</td>\n",
       "      <td>Kids</td>\n",
       "      <td>3</td>\n",
       "      <td>7500</td>\n",
       "    </tr>\n",
       "  </tbody>\n",
       "</table>\n",
       "</div>"
      ],
      "text/plain": [
       "        Date        Time State     Group  Unit  Sales\n",
       "0 2020-10-01     Morning    WA      Kids     8  20000\n",
       "1 2020-10-01     Morning    WA       Men     8  20000\n",
       "2 2020-10-01     Morning    WA     Women     4  10000\n",
       "3 2020-10-01     Morning    WA   Seniors    15  37500\n",
       "4 2020-10-01   Afternoon    WA      Kids     3   7500"
      ]
     },
     "execution_count": 44,
     "metadata": {},
     "output_type": "execute_result"
    }
   ],
   "source": [
    "sales.head()"
   ]
  },
  {
   "cell_type": "code",
   "execution_count": 45,
   "id": "15d2588d-9f20-469f-bd8a-0ae923ad6743",
   "metadata": {},
   "outputs": [
    {
     "data": {
      "text/html": [
       "<div>\n",
       "<style scoped>\n",
       "    .dataframe tbody tr th:only-of-type {\n",
       "        vertical-align: middle;\n",
       "    }\n",
       "\n",
       "    .dataframe tbody tr th {\n",
       "        vertical-align: top;\n",
       "    }\n",
       "\n",
       "    .dataframe thead th {\n",
       "        text-align: right;\n",
       "    }\n",
       "</style>\n",
       "<table border=\"1\" class=\"dataframe\">\n",
       "  <thead>\n",
       "    <tr style=\"text-align: right;\">\n",
       "      <th></th>\n",
       "      <th>Date</th>\n",
       "      <th>Time</th>\n",
       "      <th>State</th>\n",
       "      <th>Group</th>\n",
       "      <th>Unit</th>\n",
       "      <th>Sales</th>\n",
       "    </tr>\n",
       "  </thead>\n",
       "  <tbody>\n",
       "    <tr>\n",
       "      <th>7555</th>\n",
       "      <td>2020-12-30</td>\n",
       "      <td>Afternoon</td>\n",
       "      <td>TAS</td>\n",
       "      <td>Seniors</td>\n",
       "      <td>14</td>\n",
       "      <td>35000</td>\n",
       "    </tr>\n",
       "    <tr>\n",
       "      <th>7556</th>\n",
       "      <td>2020-12-30</td>\n",
       "      <td>Evening</td>\n",
       "      <td>TAS</td>\n",
       "      <td>Kids</td>\n",
       "      <td>15</td>\n",
       "      <td>37500</td>\n",
       "    </tr>\n",
       "    <tr>\n",
       "      <th>7557</th>\n",
       "      <td>2020-12-30</td>\n",
       "      <td>Evening</td>\n",
       "      <td>TAS</td>\n",
       "      <td>Men</td>\n",
       "      <td>15</td>\n",
       "      <td>37500</td>\n",
       "    </tr>\n",
       "    <tr>\n",
       "      <th>7558</th>\n",
       "      <td>2020-12-30</td>\n",
       "      <td>Evening</td>\n",
       "      <td>TAS</td>\n",
       "      <td>Women</td>\n",
       "      <td>11</td>\n",
       "      <td>27500</td>\n",
       "    </tr>\n",
       "    <tr>\n",
       "      <th>7559</th>\n",
       "      <td>2020-12-30</td>\n",
       "      <td>Evening</td>\n",
       "      <td>TAS</td>\n",
       "      <td>Seniors</td>\n",
       "      <td>13</td>\n",
       "      <td>32500</td>\n",
       "    </tr>\n",
       "  </tbody>\n",
       "</table>\n",
       "</div>"
      ],
      "text/plain": [
       "           Date        Time State     Group  Unit  Sales\n",
       "7555 2020-12-30   Afternoon   TAS   Seniors    14  35000\n",
       "7556 2020-12-30     Evening   TAS      Kids    15  37500\n",
       "7557 2020-12-30     Evening   TAS       Men    15  37500\n",
       "7558 2020-12-30     Evening   TAS     Women    11  27500\n",
       "7559 2020-12-30     Evening   TAS   Seniors    13  32500"
      ]
     },
     "execution_count": 45,
     "metadata": {},
     "output_type": "execute_result"
    }
   ],
   "source": [
    "sales.tail()"
   ]
  },
  {
   "cell_type": "code",
   "execution_count": 46,
   "id": "8cdcab99-1c74-4e09-b9f7-305518581b3e",
   "metadata": {},
   "outputs": [
    {
     "data": {
      "text/plain": [
       "Date\n",
       "2020-10-05    45018.0\n",
       "2020-10-12    45808.0\n",
       "2020-10-19    45587.0\n",
       "2020-10-26    45221.0\n",
       "2020-11-02    41265.0\n",
       "2020-11-09    35825.0\n",
       "2020-11-16    36127.0\n",
       "2020-11-23    36033.0\n",
       "2020-11-30    36467.0\n",
       "2020-12-07    52411.0\n",
       "2020-12-14    54524.0\n",
       "2020-12-21    53142.0\n",
       "2020-12-28    54435.0\n",
       "2021-01-04    54747.0\n",
       "Freq: W-MON, Name: Sales, dtype: float64"
      ]
     },
     "execution_count": 46,
     "metadata": {},
     "output_type": "execute_result"
    }
   ],
   "source": [
    "sales.resample('W-Mon', on='Date').Sales.mean().round()"
   ]
  },
  {
   "cell_type": "code",
   "execution_count": 89,
   "id": "1fb1114d-7403-460e-966b-d056c319bce8",
   "metadata": {},
   "outputs": [
    {
     "data": {
      "text/plain": [
       "Date\n",
       "2020-10-31    45353.0\n",
       "2020-11-30    35985.0\n",
       "2020-12-31    53702.0\n",
       "Freq: ME, Name: Sales, dtype: float64"
      ]
     },
     "execution_count": 89,
     "metadata": {},
     "output_type": "execute_result"
    }
   ],
   "source": [
    "sales.resample('ME', on='Date').Sales.mean().round()"
   ]
  },
  {
   "cell_type": "code",
   "execution_count": 87,
   "id": "f46256ce-56b1-4715-928b-92e5248518dd",
   "metadata": {},
   "outputs": [
    {
     "data": {
      "text/plain": [
       "Date\n",
       "2020-12-31    45014.0\n",
       "Freq: QE-DEC, Name: Sales, dtype: float64"
      ]
     },
     "execution_count": 87,
     "metadata": {},
     "output_type": "execute_result"
    }
   ],
   "source": [
    "sales.resample('QE', on='Date').Sales.mean().round()"
   ]
  },
  {
   "cell_type": "code",
   "execution_count": 85,
   "id": "adb68af9-a0c8-409e-95a2-e97d7d8e0806",
   "metadata": {},
   "outputs": [
    {
     "data": {
      "text/plain": [
       "Date\n",
       "2020-10-31    18.0\n",
       "2020-11-30    14.0\n",
       "2020-12-31    21.0\n",
       "Freq: ME, Name: Unit, dtype: float64"
      ]
     },
     "execution_count": 85,
     "metadata": {},
     "output_type": "execute_result"
    }
   ],
   "source": [
    "sales.resample('ME', on='Date').Unit.mean().round()"
   ]
  },
  {
   "cell_type": "code",
   "execution_count": 50,
   "id": "dbd5abe3-14b1-4470-92c4-f33325f12c2f",
   "metadata": {},
   "outputs": [
    {
     "data": {
      "text/plain": [
       "Date\n",
       "2020-10-05    18.0\n",
       "2020-10-12    18.0\n",
       "2020-10-19    18.0\n",
       "2020-10-26    18.0\n",
       "2020-11-02    17.0\n",
       "2020-11-09    14.0\n",
       "2020-11-16    14.0\n",
       "2020-11-23    14.0\n",
       "2020-11-30    15.0\n",
       "2020-12-07    21.0\n",
       "2020-12-14    22.0\n",
       "2020-12-21    21.0\n",
       "2020-12-28    22.0\n",
       "2021-01-04    22.0\n",
       "Freq: W-MON, Name: Unit, dtype: float64"
      ]
     },
     "execution_count": 50,
     "metadata": {},
     "output_type": "execute_result"
    }
   ],
   "source": [
    "sales.resample('W-Mon', on='Date').Unit.mean().round()"
   ]
  },
  {
   "cell_type": "code",
   "execution_count": 83,
   "id": "9dff9c19-5971-4a5d-a2df-d94fb2ad8067",
   "metadata": {},
   "outputs": [
    {
     "data": {
      "text/plain": [
       "Date\n",
       "2020-12-31    18.0\n",
       "Freq: QE-DEC, Name: Unit, dtype: float64"
      ]
     },
     "execution_count": 83,
     "metadata": {},
     "output_type": "execute_result"
    }
   ],
   "source": [
    "sales.resample('QE', on='Date').Unit.mean().round()"
   ]
  },
  {
   "cell_type": "code",
   "execution_count": 52,
   "id": "5569b927-652e-4d47-b13b-bf5f379222f0",
   "metadata": {},
   "outputs": [],
   "source": [
    "## DATA VISUALIZATION"
   ]
  },
  {
   "cell_type": "code",
   "execution_count": 53,
   "id": "d16d6c47-e5f6-4443-8d20-17f09e3b52f0",
   "metadata": {},
   "outputs": [],
   "source": [
    "import pandas as pd\n",
    "import matplotlib.pyplot as plt"
   ]
  },
  {
   "cell_type": "code",
   "execution_count": 54,
   "id": "7f395314-4917-4e1b-9e4d-83557ea0b0b8",
   "metadata": {},
   "outputs": [
    {
     "name": "stdout",
     "output_type": "stream",
     "text": [
      "Units by Date:\n"
     ]
    },
    {
     "data": {
      "image/png": "[encoded data removed]",
      "text/plain": [
       "<Figure size 640x480 with 1 Axes>"
      ]
     },
     "metadata": {},
     "output_type": "display_data"
    }
   ],
   "source": [
    "sales.resample('W-Mon', on='Date').Unit.mean().round().plot(kind='bar')\n",
    "plt.xlabel('Day')\n",
    "plt.ylabel('Unit')\n",
    "print('Units by Date:')\n",
    "plt.show()"
   ]
  },
  {
   "cell_type": "code",
   "execution_count": 55,
   "id": "0e24d558-80cd-48f4-a510-aedfeb7cc1d5",
   "metadata": {},
   "outputs": [
    {
     "data": {
      "image/png": "[encoded data removed]",
      "text/plain": [
       "<Figure size 640x480 with 1 Axes>"
      ]
     },
     "metadata": {},
     "output_type": "display_data"
    }
   ],
   "source": [
    "sales.resample('W-Mon', on='Date').Unit.mean().round().plot()\n",
    "plt.show()"
   ]
  },
  {
   "cell_type": "code",
   "execution_count": 81,
   "id": "e953474c-f57d-412c-98cc-43880837f292",
   "metadata": {},
   "outputs": [
    {
     "data": {
      "image/png": "[encoded data removed]",
      "text/plain": [
       "<Figure size 640x480 with 1 Axes>"
      ]
     },
     "metadata": {},
     "output_type": "display_data"
    }
   ],
   "source": [
    "sales.resample('ME', on='Date').Unit.mean().round().plot(kind='bar', width=0.1)\n",
    "plt.xlabel('Date')\n",
    "plt.ylabel('Unit')\n",
    "plt.show()"
   ]
  },
  {
   "cell_type": "code",
   "execution_count": 57,
   "id": "269e36eb-900c-4d53-a50b-a8d815abc9a7",
   "metadata": {},
   "outputs": [
    {
     "data": {
      "image/png": "[encoded data removed]",
      "text/plain": [
       "<Figure size 640x480 with 1 Axes>"
      ]
     },
     "metadata": {},
     "output_type": "display_data"
    }
   ],
   "source": [
    "sales.resample('W-Mon', on='Date').Sales.mean().round().plot(kind='bar', width=0.4)\n",
    "plt.xlabel('Date')\n",
    "plt.ylabel('Sales by Date')\n",
    "plt.show()"
   ]
  },
  {
   "cell_type": "code",
   "execution_count": 91,
   "id": "5c21fd03-06e7-45e5-a60b-8d6c87c5f807",
   "metadata": {},
   "outputs": [
    {
     "data": {
      "image/png": "[encoded data removed]",
      "text/plain": [
       "<Figure size 640x480 with 1 Axes>"
      ]
     },
     "metadata": {},
     "output_type": "display_data"
    }
   ],
   "source": [
    "sales.resample('ME', on='Date').Sales.mean().round().plot(kind='bar', width=0.1)\n",
    "plt.xlabel('Date')\n",
    "plt.ylabel('Sales by Date')\n",
    "plt.show()"
   ]
  },
  {
   "cell_type": "code",
   "execution_count": 59,
   "id": "7fed1f0f-cf94-4464-acbc-26f6bd112da0",
   "metadata": {},
   "outputs": [],
   "source": [
    "##Data Visualization "
   ]
  },
  {
   "cell_type": "code",
   "execution_count": 60,
   "id": "ceba193c-2239-4fb0-857a-725d44d72728",
   "metadata": {},
   "outputs": [],
   "source": [
    "#Statewise sales analysis for different groups(kids, women, men, seniors)"
   ]
  },
  {
   "cell_type": "code",
   "execution_count": 61,
   "id": "ca5b6077-2ce5-49a6-96dc-944415d15f2e",
   "metadata": {},
   "outputs": [
    {
     "data": {
      "text/html": [
       "<div>\n",
       "<style scoped>\n",
       "    .dataframe tbody tr th:only-of-type {\n",
       "        vertical-align: middle;\n",
       "    }\n",
       "\n",
       "    .dataframe tbody tr th {\n",
       "        vertical-align: top;\n",
       "    }\n",
       "\n",
       "    .dataframe thead th {\n",
       "        text-align: right;\n",
       "    }\n",
       "</style>\n",
       "<table border=\"1\" class=\"dataframe\">\n",
       "  <thead>\n",
       "    <tr style=\"text-align: right;\">\n",
       "      <th></th>\n",
       "      <th>Date</th>\n",
       "      <th>Time</th>\n",
       "      <th>State</th>\n",
       "      <th>Group</th>\n",
       "      <th>Unit</th>\n",
       "      <th>Sales</th>\n",
       "    </tr>\n",
       "  </thead>\n",
       "  <tbody>\n",
       "    <tr>\n",
       "      <th>7555</th>\n",
       "      <td>2020-12-30</td>\n",
       "      <td>Afternoon</td>\n",
       "      <td>TAS</td>\n",
       "      <td>Seniors</td>\n",
       "      <td>14</td>\n",
       "      <td>35000</td>\n",
       "    </tr>\n",
       "    <tr>\n",
       "      <th>7556</th>\n",
       "      <td>2020-12-30</td>\n",
       "      <td>Evening</td>\n",
       "      <td>TAS</td>\n",
       "      <td>Kids</td>\n",
       "      <td>15</td>\n",
       "      <td>37500</td>\n",
       "    </tr>\n",
       "    <tr>\n",
       "      <th>7557</th>\n",
       "      <td>2020-12-30</td>\n",
       "      <td>Evening</td>\n",
       "      <td>TAS</td>\n",
       "      <td>Men</td>\n",
       "      <td>15</td>\n",
       "      <td>37500</td>\n",
       "    </tr>\n",
       "    <tr>\n",
       "      <th>7558</th>\n",
       "      <td>2020-12-30</td>\n",
       "      <td>Evening</td>\n",
       "      <td>TAS</td>\n",
       "      <td>Women</td>\n",
       "      <td>11</td>\n",
       "      <td>27500</td>\n",
       "    </tr>\n",
       "    <tr>\n",
       "      <th>7559</th>\n",
       "      <td>2020-12-30</td>\n",
       "      <td>Evening</td>\n",
       "      <td>TAS</td>\n",
       "      <td>Seniors</td>\n",
       "      <td>13</td>\n",
       "      <td>32500</td>\n",
       "    </tr>\n",
       "  </tbody>\n",
       "</table>\n",
       "</div>"
      ],
      "text/plain": [
       "           Date        Time State     Group  Unit  Sales\n",
       "7555 2020-12-30   Afternoon   TAS   Seniors    14  35000\n",
       "7556 2020-12-30     Evening   TAS      Kids    15  37500\n",
       "7557 2020-12-30     Evening   TAS       Men    15  37500\n",
       "7558 2020-12-30     Evening   TAS     Women    11  27500\n",
       "7559 2020-12-30     Evening   TAS   Seniors    13  32500"
      ]
     },
     "execution_count": 61,
     "metadata": {},
     "output_type": "execute_result"
    }
   ],
   "source": [
    "sales.tail()"
   ]
  },
  {
   "cell_type": "code",
   "execution_count": 62,
   "id": "c8384345-3bb2-448d-8d29-52ae92d308b6",
   "metadata": {},
   "outputs": [
    {
     "data": {
      "text/plain": [
       "State\n",
       "WA     1080\n",
       "NT     1080\n",
       "SA     1080\n",
       "VIC    1080\n",
       "QLD    1080\n",
       "NSW    1080\n",
       "TAS    1080\n",
       "Name: count, dtype: int64"
      ]
     },
     "execution_count": 62,
     "metadata": {},
     "output_type": "execute_result"
    }
   ],
   "source": [
    "sales['State'].value_counts()"
   ]
  },
  {
   "cell_type": "code",
   "execution_count": 149,
   "id": "5afdd267-e8ec-4f5b-8350-10bbe45833fb",
   "metadata": {},
   "outputs": [
    {
     "name": "stdout",
     "output_type": "stream",
     "text": [
      "        State     Sales\n",
      "Group                  \n",
      "Women     VIC  26482500\n",
      "Men       VIC  26407500\n",
      "Kids      VIC  26360000\n",
      "Seniors   VIC  26315000\n",
      "Women     NSW  19172500\n",
      "Men       NSW  19022500\n",
      "Kids      NSW  18587500\n",
      "Seniors   NSW  18187500\n",
      "Women      SA  14970000\n",
      "Seniors    SA  14717500\n",
      "Men        SA  14655000\n",
      "Kids       SA  14515000\n",
      "Kids      QLD   8510000\n",
      "Men       QLD   8392500\n",
      "Women     QLD   8325000\n",
      "Seniors   QLD   8190000\n",
      "Kids      TAS   5775000\n",
      "Men        NT   5762500\n",
      "Men       TAS   5757500\n",
      "Men        WA   5752500\n",
      "Kids       NT   5700000\n",
      "Women      NT   5652500\n",
      "Seniors   TAS   5650000\n",
      "Kids       WA   5625000\n",
      "Women     TAS   5577500\n",
      "Seniors    WA   5512500\n",
      "Seniors    NT   5465000\n",
      "Women      WA   5262500\n"
     ]
    }
   ],
   "source": [
    "sales['Sales']=sales['Sales'].astype(int)\n",
    "sa_dt=sales.groupby(['State','Group'],sort=False)['Sales'].sum().reset_index('State')\n",
    "sa_dt=sa_dt.sort_values(by=['Sales'],ascending=False)\n",
    "print(sa_dt)"
   ]
  },
  {
   "cell_type": "code",
   "execution_count": 151,
   "id": "ca95709d-e72c-425d-b972-e6738cc888fc",
   "metadata": {},
   "outputs": [
    {
     "data": {
      "image/png": "[encoded data removed]",
      "text/plain": [
       "<Figure size 800x600 with 1 Axes>"
      ]
     },
     "metadata": {},
     "output_type": "display_data"
    }
   ],
   "source": [
    "##Groupwise - Sales Analysis by State (each group)\n",
    "sa_dt.plot(kind='bar')\n",
    "plt.show()"
   ]
  },
  {
   "cell_type": "code",
   "execution_count": 153,
   "id": "ebaddce2-bafa-4f8c-ab8e-ca89bbf9c39f",
   "metadata": {},
   "outputs": [
    {
     "name": "stdout",
     "output_type": "stream",
     "text": [
      "          Group     Sales\n",
      "State                    \n",
      "VIC       Women  26482500\n",
      "WA        Women   5262500\n",
      "TAS       Women   5577500\n",
      "NSW       Women  19172500\n",
      "NT        Women   5652500\n",
      "QLD       Women   8325000\n",
      "SA        Women  14970000\n",
      "SA      Seniors  14717500\n",
      "NSW     Seniors  18187500\n",
      "QLD     Seniors   8190000\n",
      "VIC     Seniors  26315000\n",
      "TAS     Seniors   5650000\n",
      "NT      Seniors   5465000\n",
      "WA      Seniors   5512500\n",
      "VIC         Men  26407500\n",
      "WA          Men   5752500\n",
      "SA          Men  14655000\n",
      "QLD         Men   8392500\n",
      "NSW         Men  19022500\n",
      "NT          Men   5762500\n",
      "TAS         Men   5757500\n",
      "VIC        Kids  26360000\n",
      "QLD        Kids   8510000\n",
      "SA         Kids  14515000\n",
      "NSW        Kids  18587500\n",
      "NT         Kids   5700000\n",
      "TAS        Kids   5775000\n",
      "WA         Kids   5625000\n"
     ]
    }
   ],
   "source": [
    "sales['Sales']=sales['Sales'].astype(int)\n",
    "sa_dt=sales.groupby(['State','Group'],sort=False)['Sales'].sum().reset_index('Group')\n",
    "sa_dt=sa_dt.sort_values(by=['Group'],ascending=False)\n",
    "print(sa_dt)"
   ]
  },
  {
   "cell_type": "code",
   "execution_count": null,
   "id": "a822ddb7-7eab-4fff-97c5-cf7b625304c5",
   "metadata": {},
   "outputs": [],
   "source": [
    "## Statewise sales analysis\n",
    "sa_dt.plot(kind='bar')"
   ]
  },
  {
   "cell_type": "code",
   "execution_count": 176,
   "id": "b10bdce8-f272-43b7-9149-899ecf2403a6",
   "metadata": {},
   "outputs": [
    {
     "name": "stdout",
     "output_type": "stream",
     "text": [
      "                     State   Sales\n",
      "Date       Time                   \n",
      "2020-12-10 Evening     VIC  595000\n",
      "2020-12-27 Afternoon   VIC  582500\n",
      "2020-12-28 Afternoon   VIC  570000\n",
      "2020-12-15 Afternoon   VIC  570000\n",
      "2020-12-23 Evening     VIC  562500\n",
      "...                    ...     ...\n",
      "2020-11-10 Afternoon   TAS   32500\n",
      "2020-11-12 Afternoon    WA   30000\n",
      "2020-11-17 Afternoon   TAS   30000\n",
      "           Morning     TAS   27500\n",
      "2020-11-12 Afternoon    NT   27500\n",
      "\n",
      "[1890 rows x 2 columns]\n"
     ]
    }
   ],
   "source": [
    "sales['Sales']=sales['Sales'].astype(int)\n",
    "sa_dt=sales.groupby(['State','Date','Time'],sort=False)['Sales'].sum().reset_index('State')\n",
    "sa_dt=sa_dt.sort_values(by=['Sales'],ascending=False)\n",
    "print(sa_dt)"
   ]
  },
  {
   "cell_type": "code",
   "execution_count": 177,
   "id": "e0d39860-5eec-422d-a58c-53e54b308c2f",
   "metadata": {},
   "outputs": [
    {
     "data": {
      "text/plain": [
       "<Figure size 900x600 with 0 Axes>"
      ]
     },
     "execution_count": 177,
     "metadata": {},
     "output_type": "execute_result"
    },
    {
     "data": {
      "text/plain": [
       "<Figure size 900x600 with 0 Axes>"
      ]
     },
     "metadata": {},
     "output_type": "display_data"
    }
   ],
   "source": [
    "import matplotlib.pylab as plt\n",
    "plt.style.use('fivethirtyeight')\n",
    "plt.figure(figsize=(9,6))"
   ]
  },
  {
   "cell_type": "code",
   "execution_count": 178,
   "id": "44820a1d-7fad-42f4-b335-9202e72a61de",
   "metadata": {},
   "outputs": [
    {
     "name": "stdout",
     "output_type": "stream",
     "text": [
      "                     State   Sales\n",
      "Date       Time                   \n",
      "2020-12-10 Evening     VIC  595000\n",
      "2020-12-27 Afternoon   VIC  582500\n",
      "2020-12-28 Afternoon   VIC  570000\n",
      "2020-12-15 Afternoon   VIC  570000\n",
      "2020-12-23 Evening     VIC  562500\n",
      "...                    ...     ...\n",
      "2020-11-10 Afternoon   TAS   32500\n",
      "2020-11-12 Afternoon    WA   30000\n",
      "2020-11-17 Afternoon   TAS   30000\n",
      "           Morning     TAS   27500\n",
      "2020-11-12 Afternoon    NT   27500\n",
      "\n",
      "[1890 rows x 2 columns]\n"
     ]
    }
   ],
   "source": [
    "sales['Sales']=sales['Sales'].astype(int)\n",
    "sa_dt=sales.groupby(['State','Date','Time'],sort=False)['Sales'].sum().reset_index('State')\n",
    "sa_dt=sa_dt.sort_values(by=['Sales'],ascending=False)\n",
    "print(sa_dt)"
   ]
  },
  {
   "cell_type": "code",
   "execution_count": 179,
   "id": "d58c51c5-3608-4ee9-aa82-3aeded148300",
   "metadata": {},
   "outputs": [
    {
     "data": {
      "text/html": [
       "<div>\n",
       "<style scoped>\n",
       "    .dataframe tbody tr th:only-of-type {\n",
       "        vertical-align: middle;\n",
       "    }\n",
       "\n",
       "    .dataframe tbody tr th {\n",
       "        vertical-align: top;\n",
       "    }\n",
       "\n",
       "    .dataframe thead th {\n",
       "        text-align: right;\n",
       "    }\n",
       "</style>\n",
       "<table border=\"1\" class=\"dataframe\">\n",
       "  <thead>\n",
       "    <tr style=\"text-align: right;\">\n",
       "      <th></th>\n",
       "      <th>Date</th>\n",
       "      <th>Time</th>\n",
       "      <th>State</th>\n",
       "      <th>Group</th>\n",
       "      <th>Unit</th>\n",
       "      <th>Sales</th>\n",
       "      <th>ROI</th>\n",
       "    </tr>\n",
       "  </thead>\n",
       "  <tbody>\n",
       "    <tr>\n",
       "      <th>0</th>\n",
       "      <td>2020-10-01</td>\n",
       "      <td>Morning</td>\n",
       "      <td>WA</td>\n",
       "      <td>Kids</td>\n",
       "      <td>8</td>\n",
       "      <td>20000</td>\n",
       "      <td>160000</td>\n",
       "    </tr>\n",
       "    <tr>\n",
       "      <th>1</th>\n",
       "      <td>2020-10-01</td>\n",
       "      <td>Morning</td>\n",
       "      <td>WA</td>\n",
       "      <td>Men</td>\n",
       "      <td>8</td>\n",
       "      <td>20000</td>\n",
       "      <td>160000</td>\n",
       "    </tr>\n",
       "    <tr>\n",
       "      <th>2</th>\n",
       "      <td>2020-10-01</td>\n",
       "      <td>Morning</td>\n",
       "      <td>WA</td>\n",
       "      <td>Women</td>\n",
       "      <td>4</td>\n",
       "      <td>10000</td>\n",
       "      <td>40000</td>\n",
       "    </tr>\n",
       "    <tr>\n",
       "      <th>3</th>\n",
       "      <td>2020-10-01</td>\n",
       "      <td>Morning</td>\n",
       "      <td>WA</td>\n",
       "      <td>Seniors</td>\n",
       "      <td>15</td>\n",
       "      <td>37500</td>\n",
       "      <td>562500</td>\n",
       "    </tr>\n",
       "    <tr>\n",
       "      <th>4</th>\n",
       "      <td>2020-10-01</td>\n",
       "      <td>Afternoon</td>\n",
       "      <td>WA</td>\n",
       "      <td>Kids</td>\n",
       "      <td>3</td>\n",
       "      <td>7500</td>\n",
       "      <td>22500</td>\n",
       "    </tr>\n",
       "  </tbody>\n",
       "</table>\n",
       "</div>"
      ],
      "text/plain": [
       "        Date        Time State     Group  Unit  Sales     ROI\n",
       "0 2020-10-01     Morning    WA      Kids     8  20000  160000\n",
       "1 2020-10-01     Morning    WA       Men     8  20000  160000\n",
       "2 2020-10-01     Morning    WA     Women     4  10000   40000\n",
       "3 2020-10-01     Morning    WA   Seniors    15  37500  562500\n",
       "4 2020-10-01   Afternoon    WA      Kids     3   7500   22500"
      ]
     },
     "execution_count": 179,
     "metadata": {},
     "output_type": "execute_result"
    }
   ],
   "source": [
    "sales['ROI']=sales['Unit'] * sales['Sales']\n",
    "sales.head()"
   ]
  },
  {
   "cell_type": "code",
   "execution_count": 180,
   "id": "208a4bd1-5ea0-48fb-91ad-c023041a0f09",
   "metadata": {},
   "outputs": [
    {
     "name": "stdout",
     "output_type": "stream",
     "text": [
      "                             State   Sales\n",
      "Date       Time      ROI                  \n",
      "2020-12-27 Afternoon 8122500   VIC  427500\n",
      "2020-12-15 Morning   9302500   VIC  305000\n",
      "2020-12-19 Morning   8122500   VIC  285000\n",
      "2020-12-04 Evening   6760000   VIC  260000\n",
      "2020-12-20 Afternoon 6760000   VIC  260000\n",
      "...                            ...     ...\n",
      "2020-11-08 Afternoon 10000      NT    5000\n",
      "2020-11-24 Afternoon 10000     TAS    5000\n",
      "2020-11-25 Evening   10000      WA    5000\n",
      "2020-11-07 Evening   10000     TAS    5000\n",
      "                     10000      NT    5000\n",
      "\n",
      "[6892 rows x 2 columns]\n"
     ]
    }
   ],
   "source": [
    "sales['Sales']=sales['Sales'].astype(int)\n",
    "sa_dt=sales.groupby(['State','Date','Time','ROI'],sort=False)['Sales'].sum().reset_index('State')\n",
    "sa_dt=sa_dt.sort_values(by=['Sales'],ascending=False)\n",
    "print(sa_dt)"
   ]
  },
  {
   "cell_type": "code",
   "execution_count": 181,
   "id": "7cca9f36-9e2f-4a40-a1bd-20e2228a7312",
   "metadata": {},
   "outputs": [
    {
     "name": "stdout",
     "output_type": "stream",
     "text": [
      "                     State   Sales\n",
      "Date       Time                   \n",
      "2020-12-10 Evening     VIC  595000\n",
      "2020-12-27 Afternoon   VIC  582500\n",
      "2020-12-28 Afternoon   VIC  570000\n",
      "2020-12-15 Afternoon   VIC  570000\n",
      "2020-12-23 Evening     VIC  562500\n",
      "...                    ...     ...\n",
      "2020-11-10 Afternoon   TAS   32500\n",
      "2020-11-12 Afternoon    WA   30000\n",
      "2020-11-17 Afternoon   TAS   30000\n",
      "           Morning     TAS   27500\n",
      "2020-11-12 Afternoon    NT   27500\n",
      "\n",
      "[1890 rows x 2 columns]\n"
     ]
    }
   ],
   "source": [
    "sales['Sales']=sales['Sales'].astype(int)\n",
    "sa_dt=sales.groupby(['State','Date','Time'],sort=False)['Sales'].sum().reset_index('State')\n",
    "sa_dt=sa_dt.sort_values(by=['Sales'],ascending=False)\n",
    "print(sa_dt)"
   ]
  },
  {
   "cell_type": "code",
   "execution_count": 182,
   "id": "01b8ffdd-2c31-4d3f-87e9-407193c5f989",
   "metadata": {},
   "outputs": [
    {
     "data": {
      "image/png": "[encoded data removed]",
      "text/plain": [
       "<Figure size 800x600 with 1 Axes>"
      ]
     },
     "metadata": {},
     "output_type": "display_data"
    }
   ],
   "source": [
    "sales.groupby(['Date'])['ROI'].plot()\n",
    "plt.ylabel('ROI', size=10)\n",
    "plt.show()"
   ]
  },
  {
   "cell_type": "code",
   "execution_count": 183,
   "id": "88daeed3-715b-41c2-bff7-b044030aebe6",
   "metadata": {},
   "outputs": [
    {
     "data": {
      "text/html": [
       "<div>\n",
       "<style scoped>\n",
       "    .dataframe tbody tr th:only-of-type {\n",
       "        vertical-align: middle;\n",
       "    }\n",
       "\n",
       "    .dataframe tbody tr th {\n",
       "        vertical-align: top;\n",
       "    }\n",
       "\n",
       "    .dataframe thead th {\n",
       "        text-align: right;\n",
       "    }\n",
       "</style>\n",
       "<table border=\"1\" class=\"dataframe\">\n",
       "  <thead>\n",
       "    <tr style=\"text-align: right;\">\n",
       "      <th></th>\n",
       "      <th>Date</th>\n",
       "      <th>Time</th>\n",
       "      <th>State</th>\n",
       "      <th>Group</th>\n",
       "      <th>Unit</th>\n",
       "      <th>Sales</th>\n",
       "      <th>ROI</th>\n",
       "    </tr>\n",
       "  </thead>\n",
       "  <tbody>\n",
       "    <tr>\n",
       "      <th>7555</th>\n",
       "      <td>2020-12-30</td>\n",
       "      <td>Afternoon</td>\n",
       "      <td>TAS</td>\n",
       "      <td>Seniors</td>\n",
       "      <td>14</td>\n",
       "      <td>35000</td>\n",
       "      <td>490000</td>\n",
       "    </tr>\n",
       "    <tr>\n",
       "      <th>7556</th>\n",
       "      <td>2020-12-30</td>\n",
       "      <td>Evening</td>\n",
       "      <td>TAS</td>\n",
       "      <td>Kids</td>\n",
       "      <td>15</td>\n",
       "      <td>37500</td>\n",
       "      <td>562500</td>\n",
       "    </tr>\n",
       "    <tr>\n",
       "      <th>7557</th>\n",
       "      <td>2020-12-30</td>\n",
       "      <td>Evening</td>\n",
       "      <td>TAS</td>\n",
       "      <td>Men</td>\n",
       "      <td>15</td>\n",
       "      <td>37500</td>\n",
       "      <td>562500</td>\n",
       "    </tr>\n",
       "    <tr>\n",
       "      <th>7558</th>\n",
       "      <td>2020-12-30</td>\n",
       "      <td>Evening</td>\n",
       "      <td>TAS</td>\n",
       "      <td>Women</td>\n",
       "      <td>11</td>\n",
       "      <td>27500</td>\n",
       "      <td>302500</td>\n",
       "    </tr>\n",
       "    <tr>\n",
       "      <th>7559</th>\n",
       "      <td>2020-12-30</td>\n",
       "      <td>Evening</td>\n",
       "      <td>TAS</td>\n",
       "      <td>Seniors</td>\n",
       "      <td>13</td>\n",
       "      <td>32500</td>\n",
       "      <td>422500</td>\n",
       "    </tr>\n",
       "  </tbody>\n",
       "</table>\n",
       "</div>"
      ],
      "text/plain": [
       "           Date        Time State     Group  Unit  Sales     ROI\n",
       "7555 2020-12-30   Afternoon   TAS   Seniors    14  35000  490000\n",
       "7556 2020-12-30     Evening   TAS      Kids    15  37500  562500\n",
       "7557 2020-12-30     Evening   TAS       Men    15  37500  562500\n",
       "7558 2020-12-30     Evening   TAS     Women    11  27500  302500\n",
       "7559 2020-12-30     Evening   TAS   Seniors    13  32500  422500"
      ]
     },
     "execution_count": 183,
     "metadata": {},
     "output_type": "execute_result"
    }
   ],
   "source": [
    "sales.tail()"
   ]
  },
  {
   "cell_type": "code",
   "execution_count": 186,
   "id": "5e0669ef-0826-4ea5-910b-47c03fad9e64",
   "metadata": {},
   "outputs": [
    {
     "data": {
      "image/png": "[encoded data removed]",
      "text/plain": [
       "<Figure size 800x600 with 1 Axes>"
      ]
     },
     "metadata": {},
     "output_type": "display_data"
    }
   ],
   "source": [
    "import matplotlib.pyplot as plt\n",
    "import seaborn as sns\n",
    "\n",
    "ax=sns.barplot(x=\"State\",y=\"Sales\", data=sales)\n",
    "\n",
    "sns.set(rc={'figure.figsize':(8,6)})"
   ]
  },
  {
   "cell_type": "code",
   "execution_count": 187,
   "id": "2a7e2487-4da0-494d-ab01-f47f79acb696",
   "metadata": {},
   "outputs": [
    {
     "data": {
      "image/png": "[encoded data removed]",
      "text/plain": [
       "<Figure size 800x600 with 1 Axes>"
      ]
     },
     "metadata": {},
     "output_type": "display_data"
    }
   ],
   "source": [
    "ax=sns.lineplot(x=\"Group\",y=\"Sales\", data=sales)\n",
    "\n",
    "sns.set(rc={'figure.figsize':(8,6)})"
   ]
  },
  {
   "cell_type": "code",
   "execution_count": null,
   "id": "3a3bacde-c7c0-4deb-bdc3-9dacb28d9aa2",
   "metadata": {},
   "outputs": [],
   "source": []
  }
 ],
 "metadata": {
  "kernelspec": {
   "display_name": "anaconda-panel-2023.05-py310",
   "language": "python",
   "name": "conda-env-anaconda-panel-2023.05-py310-py"
  },
  "language_info": {
   "codemirror_mode": {
    "name": "ipython",
    "version": 3
   },
   "file_extension": ".py",
   "mimetype": "text/x-python",
   "name": "python",
   "nbconvert_exporter": "python",
   "pygments_lexer": "ipython3",
   "version": "3.11.5"
  }
 },
 "nbformat": 4,
 "nbformat_minor": 5
}
